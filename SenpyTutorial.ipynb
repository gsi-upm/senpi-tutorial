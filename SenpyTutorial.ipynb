{
 "cells": [
  {
   "cell_type": "markdown",
   "metadata": {
    "slideshow": {
     "slide_type": "slide"
    }
   },
   "source": [
    "# Sentiment Analysis with Senpy\n",
    "J. Fernando Sánchez Rada\n",
    "![Senpy](logo.png)"
   ]
  },
  {
   "cell_type": "markdown",
   "metadata": {
    "slideshow": {
     "slide_type": "slide"
    }
   },
   "source": [
    "# Sentiment Analysis 101"
   ]
  },
  {
   "cell_type": "markdown",
   "metadata": {
    "slideshow": {
     "slide_type": "subslide"
    }
   },
   "source": [
    "# Training"
   ]
  },
  {
   "cell_type": "code",
   "execution_count": 3,
   "metadata": {
    "collapsed": false
   },
   "outputs": [
    {
     "name": "stdout",
     "output_type": "stream",
     "text": [
      "Most Informative Features\n",
      "           contains(not) = False          positi : negati =      1.6 : 1.0\n",
      "         contains(tired) = False          positi : negati =      1.2 : 1.0\n",
      "       contains(excited) = False          negati : positi =      1.2 : 1.0\n",
      "         contains(great) = False          negati : positi =      1.2 : 1.0\n",
      "       contains(looking) = False          positi : negati =      1.2 : 1.0\n",
      "None\n"
     ]
    }
   ],
   "source": [
    "import nltk\n",
    "tweets = [\n",
    "    (['love', 'this', 'car'], 'positive'),\n",
    "    (['this', 'view', 'amazing'], 'positive'),\n",
    "    (['feel', 'great', 'this', 'morning'], 'positive'),\n",
    "    (['excited', 'about', 'the', 'concert'], 'positive'),\n",
    "    (['best', 'friend'], 'positive'),\n",
    "    (['not', 'like', 'this', 'car'], 'negative'),\n",
    "    (['this', 'view', 'horrible'], 'negative'),\n",
    "    (['feel', 'tired', 'this', 'morning'], 'negative'),\n",
    "    (['not', 'looking', 'forward', 'the', 'concert'], 'negative'),\n",
    "    (['enemy'], 'negative')]\n",
    "\n",
    "def get_words_in_tweets(tweets):\n",
    "    all_words = []\n",
    "    for (words, sentiment) in tweets:\n",
    "      all_words.extend(words)\n",
    "    return all_words\n",
    "\n",
    "def get_word_features(wordlist):\n",
    "    wordlist = nltk.FreqDist(wordlist)\n",
    "    word_features = wordlist.keys()\n",
    "    return word_features\n",
    "\n",
    "word_features = get_word_features(get_words_in_tweets(tweets))\n",
    "\n",
    "def extract_features(document):\n",
    "    document_words = set(document)\n",
    "    features = {}\n",
    "    for word in word_features:\n",
    "        features['contains(%s)' % word] = (word in document_words)\n",
    "    return features\n",
    "\n",
    "training_set = nltk.classify.apply_features(extract_features, tweets)\n",
    "\n",
    "classifier = nltk.NaiveBayesClassifier.train(training_set)\n",
    "\n",
    "print classifier.show_most_informative_features(5)"
   ]
  },
  {
   "cell_type": "markdown",
   "metadata": {
    "slideshow": {
     "slide_type": "subslide"
    }
   },
   "source": [
    "# Analysis"
   ]
  },
  {
   "cell_type": "code",
   "execution_count": 4,
   "metadata": {
    "collapsed": true,
    "slideshow": {
     "slide_type": "-"
    }
   },
   "outputs": [],
   "source": [
    "def get_sentiment_bayes(sentence):\n",
    "    return classifier.classify(extract_features(sentence.split()))"
   ]
  },
  {
   "cell_type": "code",
   "execution_count": 5,
   "metadata": {
    "collapsed": false,
    "slideshow": {
     "slide_type": "-"
    }
   },
   "outputs": [
    {
     "name": "stdout",
     "output_type": "stream",
     "text": [
      "feel happy this morning\n",
      "\tpositive - positive\n",
      "larry friend\n",
      "\tpositive - positive\n",
      "not like that man\n",
      "\tnegative - negative\n",
      "house not great\n",
      "\tnegative - negative\n",
      "your song annoying\n",
      "\tnegative - positive\n"
     ]
    }
   ],
   "source": [
    "test_tweets = [\n",
    "    (['feel', 'happy', 'this', 'morning'], 'positive'),\n",
    "    (['larry', 'friend'], 'positive'),\n",
    "    (['not', 'like', 'that', 'man'], 'negative'),\n",
    "    (['house', 'not', 'great'], 'negative'),\n",
    "    (['your', 'song', 'annoying'], 'negative')]\n",
    "\n",
    "\n",
    "for tweet in test_tweets:\n",
    "    text = \" \".join(tweet[0])\n",
    "    result = get_sentiment_bayes(text)\n",
    "    print(\"{text}\\n\\t{polarity} - {result}\".format(text=text,\n",
    "                                                   polarity=tweet[1],\n",
    "                                                   result=result))"
   ]
  },
  {
   "cell_type": "markdown",
   "metadata": {
    "slideshow": {
     "slide_type": "slide"
    }
   },
   "source": [
    "# Simpler Sentiment Analysis"
   ]
  },
  {
   "cell_type": "code",
   "execution_count": 6,
   "metadata": {
    "collapsed": false
   },
   "outputs": [],
   "source": [
    "def get_sentiment_simple(text):\n",
    "    if ':)' in text:\n",
    "        return 'positive'\n",
    "    elif ':(' in text:\n",
    "        return 'negative'\n",
    "    return 'neutral'"
   ]
  },
  {
   "cell_type": "code",
   "execution_count": 7,
   "metadata": {
    "collapsed": false
   },
   "outputs": [
    {
     "name": "stdout",
     "output_type": "stream",
     "text": [
      "Larry is my friend :)\n",
      "\tpositive\n",
      "Larry is a jerk :(\n",
      "\tnegative\n",
      "And I don't care\n",
      "\tneutral\n"
     ]
    }
   ],
   "source": [
    "tweets = ['Larry is my friend :)', 'Larry is a jerk :(', 'And I don\\'t care']\n",
    "for tweet in tweets:\n",
    "    print('{}\\n\\t{}'.format(tweet, get_sentiment_simple(tweet)))"
   ]
  },
  {
   "cell_type": "markdown",
   "metadata": {
    "slideshow": {
     "slide_type": "slide"
    }
   },
   "source": [
    "# Sentiment Analysis Services"
   ]
  },
  {
   "cell_type": "markdown",
   "metadata": {
    "slideshow": {
     "slide_type": "subslide"
    }
   },
   "source": [
    "# How do we share this with the world?\n",
    "* DIY approach\n",
    "* **NIF**"
   ]
  },
  {
   "cell_type": "markdown",
   "metadata": {
    "slideshow": {
     "slide_type": "subslide"
    }
   },
   "source": [
    "#DIY Approach\n",
    "* Pros\n",
    "    * Flexibility\n",
    "    * Simplicity\n",
    "* Cons\n",
    "    * Lack of interoperability\n",
    "    * Time consuming (developing and understanding)"
   ]
  },
  {
   "cell_type": "markdown",
   "metadata": {
    "slideshow": {
     "slide_type": "subslide"
    }
   },
   "source": [
    "# NIF in a nutshell\n",
    "\n",
    "* Format\n",
    "    * RDF/JSON-LD\n",
    "    * Developed for NLP\n",
    "    * Simple model of *Contexts* and *Strings*\n",
    "* API\n",
    "    * HTTP GET\n",
    "    * Parameters:\n",
    "        * input(i)\n",
    "        * informat (f)\n",
    "        * intype (t)\n",
    "        * outformat (o)\n",
    "        * ...\n",
    "    * Extra parameters\n",
    "        * algorithm(a)\n",
    "        * language (l)\n",
    "        \n",
    "* More info: http://persistence.uni-leipzig.org/nlp2rdf/specification/api.html"
   ]
  },
  {
   "cell_type": "markdown",
   "metadata": {
    "slideshow": {
     "slide_type": "-"
    }
   },
   "source": [
    "* Pros\n",
    "    * Standardized format\n",
    "    * Simple API\n",
    "    * Interoperability\n",
    "* Cons\n",
    "    * Verbosity\n",
    "    * Steep learning curve (RDF, semantic web)\n",
    "    * Evolving (NIF 3.0 on its way)"
   ]
  },
  {
   "cell_type": "markdown",
   "metadata": {
    "slideshow": {
     "slide_type": "subslide"
    }
   },
   "source": [
    "# Something in between?\n",
    "* Dead easy for developers\n",
    "* Flexibility\n",
    "* Common API\n",
    "* Interoperability\n",
    "* Multiple formats"
   ]
  },
  {
   "cell_type": "markdown",
   "metadata": {
    "slideshow": {
     "slide_type": "slide"
    }
   },
   "source": [
    "#Enter senpy\n"
   ]
  },
  {
   "cell_type": "code",
   "execution_count": 8,
   "metadata": {
    "collapsed": false,
    "slideshow": {
     "slide_type": "-"
    }
   },
   "outputs": [
    {
     "data": {
      "text/html": [
       "\n",
       "        <iframe\n",
       "            width=\"700\"\n",
       "            height=\"350\"\n",
       "            src=\"https://pypi.python.org/pypi/senpy\"\n",
       "            frameborder=\"0\"\n",
       "            allowfullscreen\n",
       "        ></iframe>\n",
       "        "
      ],
      "text/plain": [
       "<IPython.lib.display.IFrame at 0x7f422a868250>"
      ]
     },
     "execution_count": 8,
     "metadata": {},
     "output_type": "execute_result"
    }
   ],
   "source": [
    "from IPython.display import IFrame\n",
    "IFrame('https://pypi.python.org/pypi/senpy', width=700, height=350)"
   ]
  },
  {
   "cell_type": "markdown",
   "metadata": {
    "slideshow": {
     "slide_type": "subslide"
    }
   },
   "source": [
    "# How senpy works\n",
    "\n",
    "* Abstraction for NIF (or other formats)\n",
    "* Plugins to implement different algorithms\n",
    "    * Multiple algorithms, same API\n",
    "    * Non-blocking (gevent)\n",
    "* CLI to deploy a server"
   ]
  },
  {
   "cell_type": "markdown",
   "metadata": {
    "slideshow": {
     "slide_type": "subslide"
    }
   },
   "source": [
    "# Use cases\n",
    "\n",
    "* Deploying your sentiment analysis as a web service\n",
    "* Mocking\n",
    "* Evaluation of different algorithms"
   ]
  },
  {
   "cell_type": "markdown",
   "metadata": {
    "slideshow": {
     "slide_type": "slide"
    }
   },
   "source": [
    "# Installation"
   ]
  },
  {
   "cell_type": "code",
   "execution_count": 9,
   "metadata": {
    "collapsed": false,
    "slideshow": {
     "slide_type": "subslide"
    }
   },
   "outputs": [
    {
     "name": "stdout",
     "output_type": "stream",
     "text": [
      "/usr/local/lib/python2.7/dist-packages/pip/_vendor/requests/packages/urllib3/util/ssl_.py:79: InsecurePlatformWarning: A true SSLContext object is not available. This prevents urllib3 from configuring SSL appropriately and may cause certain SSL connections to fail. For more information, see https://urllib3.readthedocs.org/en/latest/security.html#insecureplatformwarning.\n",
      "  InsecurePlatformWarning\n",
      "Requirement already up-to-date: senpy in /home/jfernando/git/senpy\n",
      "Requirement already up-to-date: Flask>=0.10.1 in /home/jfernando/.local/lib/python2.7/site-packages (from senpy)\n",
      "Requirement already up-to-date: gunicorn>=19.0.0 in /home/jfernando/.local/lib/python2.7/site-packages (from senpy)\n",
      "Requirement already up-to-date: requests>=2.4.1 in /home/jfernando/.local/lib/python2.7/site-packages (from senpy)\n",
      "Requirement already up-to-date: GitPython>=0.3.2.RC1 in /home/jfernando/.local/lib/python2.7/site-packages (from senpy)\n",
      "Requirement already up-to-date: gevent>=1.0.1 in /usr/local/lib/python2.7/dist-packages (from senpy)\n",
      "Collecting PyLD>=0.6.5 (from senpy)\n",
      "  Downloading PyLD-0.6.8.tar.gz (42kB)\n",
      "\u001b[K    100% |████████████████████████████████| 45kB 760kB/s \n",
      "\u001b[?25hRequirement already up-to-date: Flask-Testing>=0.4.2 in /usr/local/lib/python2.7/dist-packages (from senpy)\n",
      "Collecting Werkzeug>=0.7 (from Flask>=0.10.1->senpy)\n",
      "  Downloading Werkzeug-0.10.4-py2.py3-none-any.whl (293kB)\n",
      "\u001b[K    100% |████████████████████████████████| 294kB 1.4MB/s \n",
      "\u001b[?25hRequirement already up-to-date: Jinja2>=2.4 in /usr/local/lib/python2.7/dist-packages (from Flask>=0.10.1->senpy)\n",
      "Requirement already up-to-date: itsdangerous>=0.21 in /usr/local/lib/python2.7/dist-packages (from Flask>=0.10.1->senpy)\n",
      "Requirement already up-to-date: gitdb>=0.6.4 in /usr/local/lib/python2.7/dist-packages (from GitPython>=0.3.2.RC1->senpy)\n",
      "Collecting greenlet (from gevent>=1.0.1->senpy)\n",
      "  Downloading greenlet-0.4.7.zip (77kB)\n",
      "\u001b[K    100% |████████████████████████████████| 77kB 1.1MB/s \n",
      "\u001b[?25hRequirement already up-to-date: markupsafe in /usr/local/lib/python2.7/dist-packages (from Jinja2>=2.4->Flask>=0.10.1->senpy)\n",
      "Requirement already up-to-date: smmap>=0.8.5 in /usr/local/lib/python2.7/dist-packages (from gitdb>=0.6.4->GitPython>=0.3.2.RC1->senpy)\n",
      "Installing collected packages: PyLD, Werkzeug, greenlet\n",
      "  Found existing installation: PyLD 0.6.7\n",
      "    Uninstalling PyLD-0.6.7:\n",
      "      Successfully uninstalled PyLD-0.6.7\n",
      "  Running setup.py install for PyLD\n",
      "  Found existing installation: Werkzeug 0.10.1\n",
      "    Uninstalling Werkzeug-0.10.1:\n",
      "      Successfully uninstalled Werkzeug-0.10.1\n",
      "  Found existing installation: greenlet 0.4.5\n",
      "    Uninstalling greenlet-0.4.5:\n",
      "      Successfully uninstalled greenlet-0.4.5\n",
      "  Running setup.py install for greenlet\n",
      "Successfully installed PyLD-0.6.8 Werkzeug-0.10.4 greenlet-0.4.7\n"
     ]
    }
   ],
   "source": [
    "!pip install --upgrade senpy"
   ]
  },
  {
   "cell_type": "code",
   "execution_count": 10,
   "metadata": {
    "collapsed": false,
    "slideshow": {
     "slide_type": "subslide"
    }
   },
   "outputs": [
    {
     "name": "stdout",
     "output_type": "stream",
     "text": [
      "usage: __main__.py [-h] [--level logging_level] [--debug] [--host HOST] [--port PORT]\r\n",
      "                   [--plugins-folder PLUGINS_FOLDER]\r\n",
      "\r\n",
      "Run a Senpy server\r\n",
      "\r\n",
      "optional arguments:\r\n",
      "  -h, --help            show this help message and exit\r\n",
      "  --level logging_level, -l logging_level\r\n",
      "                        Logging level\r\n",
      "  --debug, -d           Run the application in debug mode\r\n",
      "  --host HOST           Use 0.0.0.0 to accept requests from any host.\r\n",
      "  --port PORT, -p PORT  Port to listen on.\r\n",
      "  --plugins-folder PLUGINS_FOLDER, -f PLUGINS_FOLDER\r\n",
      "                        Where to look for plugins.\r\n"
     ]
    }
   ],
   "source": [
    "!python -m senpy --help"
   ]
  },
  {
   "cell_type": "code",
   "execution_count": 12,
   "metadata": {
    "collapsed": false,
    "slideshow": {
     "slide_type": "subslide"
    }
   },
   "outputs": [
    {
     "name": "stdout",
     "output_type": "stream",
     "text": [
      "Server running on port 127.0.0.1:5000. Ctrl+C to quit\n",
      "^CKeyboardInterrupt\n",
      "Bye!\n",
      "\n"
     ]
    }
   ],
   "source": [
    "!python -m senpy"
   ]
  },
  {
   "cell_type": "code",
   "execution_count": 15,
   "metadata": {
    "collapsed": true,
    "slideshow": {
     "slide_type": "skip"
    }
   },
   "outputs": [],
   "source": [
    "import json\n",
    "import requests\n",
    "def print_response(url):\n",
    "    res = requests.get(url).json()\n",
    "    if \"@context\" in res:\n",
    "        del res[\"@context\"]\n",
    "    print json.dumps(res, indent=2)"
   ]
  },
  {
   "cell_type": "code",
   "execution_count": 17,
   "metadata": {
    "collapsed": false,
    "slideshow": {
     "slide_type": "subslide"
    }
   },
   "outputs": [
    {
     "name": "stdout",
     "output_type": "stream",
     "text": [
      "{\n",
      "  \"status\": 404, \n",
      "  \"message\": \"Missing or invalid parameters\", \n",
      "  \"errors\": {\n",
      "    \"input\": {\n",
      "      \"required\": true, \n",
      "      \"@id\": \"input\", \n",
      "      \"help\": \"Input text\", \n",
      "      \"aliases\": [\n",
      "        \"i\", \n",
      "        \"input\"\n",
      "      ]\n",
      "    }\n",
      "  }, \n",
      "  \"parameters\": {\n",
      "    \"informat\": \"text\", \n",
      "    \"prefix\": \"\", \n",
      "    \"intype\": \"direct\", \n",
      "    \"outformat\": \"json-ld\", \n",
      "    \"urischeme\": \"RFC5147String\"\n",
      "  }\n",
      "}\n"
     ]
    }
   ],
   "source": [
    "print_response('http://localhost:5000')"
   ]
  },
  {
   "cell_type": "code",
   "execution_count": 18,
   "metadata": {
    "collapsed": false,
    "slideshow": {
     "slide_type": "subslide"
    }
   },
   "outputs": [
    {
     "name": "stdout",
     "output_type": "stream",
     "text": [
      "{\n",
      "  \"sentiment140\": {\n",
      "    \"is_activated\": true, \n",
      "    \"version\": \"0.1\", \n",
      "    \"@id\": \"sentiment140_0.1\", \n",
      "    \"name\": \"sentiment140\", \n",
      "    \"extra_params\": {\n",
      "      \"@id\": \"extra_params_sentiment140_0.1\", \n",
      "      \"language\": {\n",
      "        \"required\": false, \n",
      "        \"@id\": \"lang_sentiment140\", \n",
      "        \"options\": [\n",
      "          \"es\", \n",
      "          \"en\", \n",
      "          \"auto\"\n",
      "        ], \n",
      "        \"aliases\": [\n",
      "          \"language\", \n",
      "          \"l\"\n",
      "        ]\n",
      "      }\n",
      "    }\n",
      "  }, \n",
      "  \"rand\": {\n",
      "    \"is_activated\": true, \n",
      "    \"version\": \"0.1\", \n",
      "    \"@id\": \"rand_0.1\", \n",
      "    \"name\": \"rand\", \n",
      "    \"extra_params\": {\n",
      "      \"@id\": \"extra_params_rand_0.1\", \n",
      "      \"language\": {\n",
      "        \"required\": false, \n",
      "        \"@id\": \"lang_rand\", \n",
      "        \"options\": [\n",
      "          \"es\", \n",
      "          \"en\", \n",
      "          \"auto\"\n",
      "        ], \n",
      "        \"aliases\": [\n",
      "          \"language\", \n",
      "          \"l\"\n",
      "        ]\n",
      "      }\n",
      "    }\n",
      "  }\n",
      "}\n"
     ]
    }
   ],
   "source": [
    "print_response('http://localhost:5000/plugins')"
   ]
  },
  {
   "cell_type": "code",
   "execution_count": 19,
   "metadata": {
    "collapsed": false,
    "slideshow": {
     "slide_type": "subslide"
    }
   },
   "outputs": [
    {
     "name": "stdout",
     "output_type": "stream",
     "text": [
      "{\n",
      "  \"is_activated\": true, \n",
      "  \"version\": \"0.1\", \n",
      "  \"@id\": \"sentiment140_0.1\", \n",
      "  \"name\": \"sentiment140\", \n",
      "  \"extra_params\": {\n",
      "    \"@id\": \"extra_params_sentiment140_0.1\", \n",
      "    \"language\": {\n",
      "      \"required\": false, \n",
      "      \"@id\": \"lang_sentiment140\", \n",
      "      \"options\": [\n",
      "        \"es\", \n",
      "        \"en\", \n",
      "        \"auto\"\n",
      "      ], \n",
      "      \"aliases\": [\n",
      "        \"language\", \n",
      "        \"l\"\n",
      "      ]\n",
      "    }\n",
      "  }\n",
      "}\n"
     ]
    }
   ],
   "source": [
    "print_response('http://localhost:5000/plugins/sentiment140')"
   ]
  },
  {
   "cell_type": "code",
   "execution_count": 20,
   "metadata": {
    "collapsed": false
   },
   "outputs": [
    {
     "name": "stdout",
     "output_type": "stream",
     "text": [
      "{\n",
      "  \"message\": \"Ok\"\n",
      "}\n"
     ]
    }
   ],
   "source": [
    "print_response('http://localhost:5000/plugins/sentiment140/deactivate')"
   ]
  },
  {
   "cell_type": "code",
   "execution_count": 21,
   "metadata": {
    "collapsed": false
   },
   "outputs": [
    {
     "name": "stdout",
     "output_type": "stream",
     "text": [
      "{\n",
      "  \"is_activated\": false, \n",
      "  \"version\": \"0.1\", \n",
      "  \"@id\": \"sentiment140_0.1\", \n",
      "  \"name\": \"sentiment140\", \n",
      "  \"extra_params\": {\n",
      "    \"@id\": \"extra_params_sentiment140_0.1\", \n",
      "    \"language\": {\n",
      "      \"required\": false, \n",
      "      \"@id\": \"lang_sentiment140\", \n",
      "      \"options\": [\n",
      "        \"es\", \n",
      "        \"en\", \n",
      "        \"auto\"\n",
      "      ], \n",
      "      \"aliases\": [\n",
      "        \"language\", \n",
      "        \"l\"\n",
      "      ]\n",
      "    }\n",
      "  }\n",
      "}\n"
     ]
    }
   ],
   "source": [
    "print_response('http://localhost:5000/plugins/sentiment140')"
   ]
  },
  {
   "cell_type": "markdown",
   "metadata": {
    "slideshow": {
     "slide_type": "slide"
    }
   },
   "source": [
    "# Developing new plugins"
   ]
  },
  {
   "cell_type": "markdown",
   "metadata": {
    "slideshow": {
     "slide_type": "subslide"
    }
   },
   "source": [
    "# Anatomy of a plugin"
   ]
  },
  {
   "cell_type": "code",
   "execution_count": 22,
   "metadata": {
    "collapsed": false,
    "slideshow": {
     "slide_type": "-"
    }
   },
   "outputs": [
    {
     "name": "stdout",
     "output_type": "stream",
     "text": [
      "playground/base_plugins/rand\r\n",
      "├── rand.py\r\n",
      "└── rand.senpy\r\n",
      "\r\n",
      "0 directories, 2 files\r\n"
     ]
    }
   ],
   "source": [
    "!tree playground/base_plugins/rand -I *.pyc"
   ]
  },
  {
   "cell_type": "markdown",
   "metadata": {
    "slideshow": {
     "slide_type": "subslide"
    }
   },
   "source": [
    "The .senpy file contains information about the plugin, including its name (**name**) and where the code can be imported from (**module**)"
   ]
  },
  {
   "cell_type": "code",
   "execution_count": 23,
   "metadata": {
    "collapsed": false,
    "slideshow": {
     "slide_type": "-"
    }
   },
   "outputs": [
    {
     "name": "stdout",
     "output_type": "stream",
     "text": [
      "{\r\n",
      "    \"name\": \"rand\",\r\n",
      "    \"module\": \"rand\",\r\n",
      "    \"description\": \"What my plugin broadly does\",\r\n",
      "    \"author\": \"@balkian\",\r\n",
      "    \"version\": \"0.1\",\r\n",
      "    \"extra_params\": {\r\n",
      "        \"language\": {\r\n",
      "            \"@id\": \"lang_rand\",\r\n",
      "            \"aliases\": [\"language\", \"l\"],\r\n",
      "            \"required\": false,\r\n",
      "            \"options\": [\"es\", \"en\", \"auto\"]\r\n",
      "        }\r\n",
      "     },\r\n",
      "     \"requirements\": {},\r\n",
      "     \"marl:maxPolarityValue\": \"1\",\r\n",
      "     \"marl:minPolarityValue\": \"-1\"\r\n",
      "}\r\n"
     ]
    }
   ],
   "source": [
    "!cat playground/base_plugins/rand/rand.senpy"
   ]
  },
  {
   "cell_type": "code",
   "execution_count": 24,
   "metadata": {
    "collapsed": false,
    "slideshow": {
     "slide_type": "subslide"
    }
   },
   "outputs": [],
   "source": [
    "# %load playground/base_plugins/rand/rand.py\n",
    "import json\n",
    "import random\n",
    "\n",
    "from senpy.plugins import SentimentPlugin\n",
    "from senpy.models import Response, Opinion, Entry\n",
    "\n",
    "\n",
    "class Sentiment140Plugin(SentimentPlugin):\n",
    "    def analyse(self, **params):\n",
    "        lang = params.get(\"language\", \"auto\")\n",
    "\n",
    "        p = params.get(\"prefix\", None)\n",
    "        response = Response(prefix=p)\n",
    "        polarity_value = max(-1, min(1, random.gauss(0.2, 0.2)))\n",
    "        polarity = \"marl:Neutral\"\n",
    "        if polarity_value > 0:\n",
    "            polarity = \"marl:Positive\"\n",
    "        elif polarity_value < 0:\n",
    "            polarity = \"marl:Negative\"\n",
    "        entry = Entry(id=\"Entry0\",\n",
    "                      text=params[\"input\"],\n",
    "                      prefix=p)\n",
    "        opinion = Opinion(id=\"Opinion0\",\n",
    "                          prefix=p,\n",
    "                          hasPolarity=polarity,\n",
    "                          polarityValue=polarity_value)\n",
    "        opinion[\"prov:wasGeneratedBy\"] = self.id\n",
    "        entry.opinions.append(opinion)\n",
    "        entry.language = lang\n",
    "        response.entries.append(entry)\n",
    "        return response"
   ]
  },
  {
   "cell_type": "code",
   "execution_count": 25,
   "metadata": {
    "collapsed": false,
    "slideshow": {
     "slide_type": "subslide"
    }
   },
   "outputs": [
    {
     "name": "stdout",
     "output_type": "stream",
     "text": [
      "{\n",
      "  \"@id\": \"_:b0\", \n",
      "  \"analysis\": [\n",
      "    {\n",
      "      \"minPolarityValue\": 0.0, \n",
      "      \"version\": \"0.1\", \n",
      "      \"@id\": \"rand_0.1\", \n",
      "      \"maxPolarityValue\": 1.0, \n",
      "      \"name\": \"rand\"\n",
      "    }\n",
      "  ], \n",
      "  \"entries\": [\n",
      "    {\n",
      "      \"text\": \"let us go\", \n",
      "      \"@id\": \"Entry0\", \n",
      "      \"nif:language\": \"auto\", \n",
      "      \"opinions\": [\n",
      "        {\n",
      "          \"@id\": \"Opinion0\", \n",
      "          \"prov:wasGeneratedBy\": \"rand_0.1\", \n",
      "          \"marl:hasPolarityValue\": 0.47205581920028605, \n",
      "          \"marl:hasPolarity\": \"marl:Positive\"\n",
      "        }\n",
      "      ]\n",
      "    }\n",
      "  ]\n",
      "}\n"
     ]
    }
   ],
   "source": [
    "print_response('http://localhost:5000?i=let us go&algo=rand')"
   ]
  },
  {
   "cell_type": "markdown",
   "metadata": {
    "slideshow": {
     "slide_type": "slide"
    }
   },
   "source": [
    "# A plugin for our dummy service"
   ]
  },
  {
   "cell_type": "code",
   "execution_count": 26,
   "metadata": {
    "collapsed": false
   },
   "outputs": [
    {
     "name": "stdout",
     "output_type": "stream",
     "text": [
      "playground/plugins\r\n",
      "├── bayes.py\r\n",
      "├── bayes.senpy\r\n",
      "├── smileys.py\r\n",
      "└── smileys.senpy\r\n",
      "\r\n",
      "0 directories, 4 files\r\n"
     ]
    }
   ],
   "source": [
    "!tree playground/plugins -I *.pyc"
   ]
  },
  {
   "cell_type": "code",
   "execution_count": 27,
   "metadata": {
    "collapsed": false,
    "slideshow": {
     "slide_type": "subslide"
    }
   },
   "outputs": [
    {
     "name": "stdout",
     "output_type": "stream",
     "text": [
      "{\r\n",
      "    \"name\": \"smileys\",\r\n",
      "    \"module\": \"smileys\",\r\n",
      "    \"description\": \"A simple plugin that detects smileys\",\r\n",
      "    \"author\": \"@balkian\",\r\n",
      "    \"version\": \"0.1\",\r\n",
      "    \"requirements\": {}\r\n",
      "}\r\n"
     ]
    }
   ],
   "source": [
    "!cat playground/plugins/smileys.senpy"
   ]
  },
  {
   "cell_type": "code",
   "execution_count": 28,
   "metadata": {
    "collapsed": true,
    "slideshow": {
     "slide_type": "subslide"
    }
   },
   "outputs": [],
   "source": [
    "# %load playground/plugins/smileys.py\n",
    "import json\n",
    "import random\n",
    "\n",
    "from senpy.plugins import SentimentPlugin\n",
    "from senpy.models import Response, Opinion, Entry\n",
    "\n",
    "\n",
    "class SmileysPlugin(SentimentPlugin):\n",
    "\n",
    "    def get_sentiment(self, text):\n",
    "        if ':)' in text:\n",
    "            return 'marl:Positive'\n",
    "        elif ':(' in text:\n",
    "            return 'marl:Negative'\n",
    "        return 'marl:Neutral'\n",
    "\n",
    "    def analyse(self, **params):\n",
    "        response = Response()\n",
    "        text = params['input']\n",
    "        polarity = self.get_sentiment(text)\n",
    "        entry = Entry(text=text)\n",
    "        opinion = Opinion(hasPolarity=polarity)\n",
    "        opinion[\"prov:wasGeneratedBy\"] = self.id\n",
    "        entry.opinions.append(opinion)\n",
    "        response.entries.append(entry)\n",
    "        return response\n"
   ]
  },
  {
   "cell_type": "markdown",
   "metadata": {
    "slideshow": {
     "slide_type": "slide"
    }
   },
   "source": [
    "# More sophisticated plugins"
   ]
  },
  {
   "cell_type": "markdown",
   "metadata": {
    "slideshow": {
     "slide_type": "subslide"
    }
   },
   "source": [
    "# Loading and unloading resources\n",
    "* Asynchronous load"
   ]
  },
  {
   "cell_type": "code",
   "execution_count": 29,
   "metadata": {
    "collapsed": true
   },
   "outputs": [],
   "source": [
    "def activate(self):\n",
    "    pass\n",
    "\n",
    "def deactivate(self):\n",
    "    pass"
   ]
  },
  {
   "cell_type": "markdown",
   "metadata": {
    "slideshow": {
     "slide_type": "subslide"
    }
   },
   "source": [
    "# Example: The Naive Bayes service"
   ]
  },
  {
   "cell_type": "code",
   "execution_count": 30,
   "metadata": {
    "collapsed": false,
    "slideshow": {
     "slide_type": "subslide"
    }
   },
   "outputs": [
    {
     "name": "stdout",
     "output_type": "stream",
     "text": [
      "{\r\n",
      "    \"name\": \"naivebayes\",\r\n",
      "    \"module\": \"bayes\",\r\n",
      "    \"description\": \"Using NLTK for sentiment analysis\",\r\n",
      "    \"author\": \"@balkian\",\r\n",
      "    \"version\": \"0.1\",\r\n",
      "    \"requirements\": {\"nltk\": \"*\"}\r\n",
      "}\r\n"
     ]
    }
   ],
   "source": [
    "!cat playground/plugins/bayes.senpy"
   ]
  },
  {
   "cell_type": "code",
   "execution_count": 31,
   "metadata": {
    "collapsed": true,
    "slideshow": {
     "slide_type": "subslide"
    }
   },
   "outputs": [],
   "source": [
    "# %load playground/plugins/bayes.py\n",
    "import json\n",
    "import nltk\n",
    "\n",
    "from senpy.plugins import SentimentPlugin\n",
    "from senpy.models import Response, Opinion, Entry\n",
    "\n",
    "\n",
    "class BayesPlugin(SentimentPlugin):\n",
    "\n",
    "    def activate(self):\n",
    "        tweets = [\n",
    "            (['love', 'this', 'car'], 'marl:Positive'),\n",
    "            (['this', 'view', 'amazing'], 'marl:Positive'),\n",
    "            (['feel', 'great', 'this', 'morning'], 'marl:Positive'),\n",
    "            (['excited', 'about', 'the', 'concert'], 'marl:Positive'),\n",
    "            (['best', 'friend'], 'marl:Positive'),\n",
    "            (['not', 'like', 'this', 'car'], 'marl:Negative'),\n",
    "            (['this', 'view', 'horrible'], 'marl:Negative'),\n",
    "            (['feel', 'tired', 'this', 'morning'], 'marl:Negative'),\n",
    "            (['not', 'looking', 'forward', 'the', 'concert'], 'marl:Negative'),\n",
    "            (['enemy'], 'marl:Negative')]\n",
    "\n",
    "        def get_words_in_tweets(tweets):\n",
    "            all_words = []\n",
    "            for (words, sentiment) in tweets:\n",
    "                all_words.extend(words)\n",
    "            return all_words\n",
    "\n",
    "        def get_word_features(wordlist):\n",
    "            wordlist = nltk.FreqDist(wordlist)\n",
    "            word_features = wordlist.keys()\n",
    "            return word_features\n",
    "\n",
    "        self._word_features = get_word_features(get_words_in_tweets(tweets))\n",
    "\n",
    "\n",
    "        training_set = nltk.classify.apply_features(self.extract_features, tweets)\n",
    "\n",
    "        self._classifier = nltk.NaiveBayesClassifier.train(training_set)\n",
    "\n",
    "    def get_sentiment(self, text):\n",
    "        return self._classifier.classify(self.extract_features(text.split()))\n",
    "\n",
    "    def extract_features(self, document):\n",
    "        document_words = set(document)\n",
    "        features = {}\n",
    "        for word in self._word_features:\n",
    "            features['contains(%s)' % word] = (word in document_words)\n",
    "        return features\n",
    "\n",
    "    def analyse(self, **params):\n",
    "        response = Response()\n",
    "        text = params['input']\n",
    "        polarity = self.get_sentiment(text)\n",
    "        entry = Entry(text=text)\n",
    "        opinion = Opinion(hasPolarity=polarity)\n",
    "        opinion[\"prov:wasGeneratedBy\"] = self.id\n",
    "        entry.opinions.append(opinion)\n",
    "        response.entries.append(entry)\n",
    "        return response\n"
   ]
  },
  {
   "cell_type": "code",
   "execution_count": 35,
   "metadata": {
    "collapsed": false,
    "slideshow": {
     "slide_type": "subslide"
    }
   },
   "outputs": [
    {
     "name": "stdout",
     "output_type": "stream",
     "text": [
      "{\n",
      "  \"@id\": \"_:b0\", \n",
      "  \"analysis\": [\n",
      "    {\n",
      "      \"minPolarityValue\": 0.0, \n",
      "      \"version\": \"0.1\", \n",
      "      \"@id\": \"naivebayes_0.1\", \n",
      "      \"maxPolarityValue\": 1.0, \n",
      "      \"name\": \"naivebayes\"\n",
      "    }\n",
      "  ], \n",
      "  \"entries\": [\n",
      "    {\n",
      "      \"text\": \"not looking forward to the concert\", \n",
      "      \"@id\": \"_:b1\", \n",
      "      \"opinions\": [\n",
      "        {\n",
      "          \"prov:wasGeneratedBy\": \"naivebayes_0.1\", \n",
      "          \"@id\": \"_:b2\", \n",
      "          \"marl:hasPolarity\": \"marl:Negative\"\n",
      "        }\n",
      "      ]\n",
      "    }\n",
      "  ]\n",
      "}\n"
     ]
    }
   ],
   "source": [
    "print_response('http://localhost:5000/?i=not%20looking%20forward%20to%20the%20concert&algo=naivebayes')"
   ]
  },
  {
   "cell_type": "markdown",
   "metadata": {
    "slideshow": {
     "slide_type": "slide"
    }
   },
   "source": [
    "# Questions?\n",
    "\n",
    "jfernando@dit.upm.es\n",
    "http://github.com/gsi-upm/senpy"
   ]
  }
 ],
 "metadata": {
  "celltoolbar": "Slideshow",
  "kernelspec": {
   "display_name": "Python 2",
   "language": "python",
   "name": "python2"
  },
  "language_info": {
   "codemirror_mode": {
    "name": "ipython",
    "version": 2
   },
   "file_extension": ".py",
   "mimetype": "text/x-python",
   "name": "python",
   "nbconvert_exporter": "python",
   "pygments_lexer": "ipython2",
   "version": "2.7.6"
  }
 },
 "nbformat": 4,
 "nbformat_minor": 0
}
